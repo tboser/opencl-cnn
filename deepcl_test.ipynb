{
 "cells": [
  {
   "cell_type": "markdown",
   "metadata": {},
   "source": [
    "# Testing DeepCL\n",
    "Trying to run some nets with DeepCL\n",
    "    "
   ]
  },
  {
   "cell_type": "code",
   "execution_count": 1,
   "metadata": {
    "collapsed": false
   },
   "outputs": [
    {
     "ename": "ImportError",
     "evalue": "dlopen(/Users/Thomas/Library/Caches/Python-Eggs/DeepCL-0.0.0-py2.7-macosx-10.6-x86_64.egg-tmp/PyDeepCL.so, 2): Library not loaded: libclBLAS.2.dylib\n  Referenced from: /Users/Thomas/Library/Caches/Python-Eggs/DeepCL-0.0.0-py2.7-macosx-10.6-x86_64.egg-tmp/PyDeepCL.so\n  Reason: image not found",
     "output_type": "error",
     "traceback": [
      "\u001b[0;31m---------------------------------------------------------------------------\u001b[0m",
      "\u001b[0;31mImportError\u001b[0m                               Traceback (most recent call last)",
      "\u001b[0;32m<ipython-input-1-bf738d2895ae>\u001b[0m in \u001b[0;36m<module>\u001b[0;34m()\u001b[0m\n\u001b[1;32m      1\u001b[0m \u001b[0;32mfrom\u001b[0m \u001b[0m__future__\u001b[0m \u001b[0;32mimport\u001b[0m \u001b[0mprint_function\u001b[0m\u001b[0;34m,\u001b[0m \u001b[0mdivision\u001b[0m\u001b[0;34m\u001b[0m\u001b[0m\n\u001b[1;32m      2\u001b[0m \u001b[0;34m\u001b[0m\u001b[0m\n\u001b[0;32m----> 3\u001b[0;31m \u001b[0;32mimport\u001b[0m \u001b[0mPyDeepCL\u001b[0m\u001b[0;34m\u001b[0m\u001b[0m\n\u001b[0m\u001b[1;32m      4\u001b[0m \u001b[0;32mimport\u001b[0m \u001b[0mnumpy\u001b[0m \u001b[0;32mas\u001b[0m \u001b[0mnp\u001b[0m\u001b[0;34m\u001b[0m\u001b[0m\n\u001b[1;32m      5\u001b[0m \u001b[0;34m\u001b[0m\u001b[0m\n",
      "\u001b[0;32mbuild/bdist.macosx-10.6-x86_64/egg/PyDeepCL.py\u001b[0m in \u001b[0;36m<module>\u001b[0;34m()\u001b[0m\n",
      "\u001b[0;32mbuild/bdist.macosx-10.6-x86_64/egg/PyDeepCL.py\u001b[0m in \u001b[0;36m__bootstrap__\u001b[0;34m()\u001b[0m\n",
      "\u001b[0;31mImportError\u001b[0m: dlopen(/Users/Thomas/Library/Caches/Python-Eggs/DeepCL-0.0.0-py2.7-macosx-10.6-x86_64.egg-tmp/PyDeepCL.so, 2): Library not loaded: libclBLAS.2.dylib\n  Referenced from: /Users/Thomas/Library/Caches/Python-Eggs/DeepCL-0.0.0-py2.7-macosx-10.6-x86_64.egg-tmp/PyDeepCL.so\n  Reason: image not found"
     ]
    }
   ],
   "source": [
    "from __future__ import print_function, division\n",
    "\n",
    "import PyDeepCL\n",
    "import numpy as np\n",
    "\n",
    "#local imports\n",
    "from data import (simulate_straight_track,\n",
    "                  generate_straight_tracks,\n",
    "                  generate_uniform_noise)\n",
    "from drawing import (draw_2d_event, draw_2d_input_and_pred,\n",
    "                     draw_train_history)\n",
    "\n",
    "from matplotlib import pyplot as plt\n",
    "%matplotlib notebook"
   ]
  },
  {
   "cell_type": "code",
   "execution_count": null,
   "metadata": {
    "collapsed": true
   },
   "outputs": [],
   "source": []
  }
 ],
 "metadata": {
  "anaconda-cloud": {},
  "kernelspec": {
   "display_name": "Python [default]",
   "language": "python",
   "name": "python2"
  },
  "language_info": {
   "codemirror_mode": {
    "name": "ipython",
    "version": 2
   },
   "file_extension": ".py",
   "mimetype": "text/x-python",
   "name": "python",
   "nbconvert_exporter": "python",
   "pygments_lexer": "ipython2",
   "version": "2.7.12"
  }
 },
 "nbformat": 4,
 "nbformat_minor": 1
}
